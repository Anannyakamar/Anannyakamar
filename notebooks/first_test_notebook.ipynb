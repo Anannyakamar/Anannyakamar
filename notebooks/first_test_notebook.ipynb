{
  "cells": [
    {
      "cell_type": "code",
      "source": [
        "!pip install youtube-transcript-api transformers python-docx fpdf"
      ],
      "metadata": {
        "colab": {
          "base_uri": "https://localhost:8080/"
        },
        "id": "im9XEQvX0IgG",
        "outputId": "a4b4f86d-6dfc-455d-b829-9bf4f395dc84"
      },
      "execution_count": 1,
      "outputs": [
        {
          "output_type": "stream",
          "name": "stdout",
          "text": [
            "Collecting youtube-transcript-api\n",
            "  Downloading youtube_transcript_api-1.2.1-py3-none-any.whl.metadata (24 kB)\n",
            "Requirement already satisfied: transformers in /usr/local/lib/python3.11/dist-packages (4.53.3)\n",
            "Collecting python-docx\n",
            "  Downloading python_docx-1.2.0-py3-none-any.whl.metadata (2.0 kB)\n",
            "Collecting fpdf\n",
            "  Downloading fpdf-1.7.2.tar.gz (39 kB)\n",
            "  Preparing metadata (setup.py) ... \u001b[?25l\u001b[?25hdone\n",
            "Requirement already satisfied: defusedxml<0.8.0,>=0.7.1 in /usr/local/lib/python3.11/dist-packages (from youtube-transcript-api) (0.7.1)\n",
            "Requirement already satisfied: requests in /usr/local/lib/python3.11/dist-packages (from youtube-transcript-api) (2.32.3)\n",
            "Requirement already satisfied: filelock in /usr/local/lib/python3.11/dist-packages (from transformers) (3.18.0)\n",
            "Requirement already satisfied: huggingface-hub<1.0,>=0.30.0 in /usr/local/lib/python3.11/dist-packages (from transformers) (0.33.4)\n",
            "Requirement already satisfied: numpy>=1.17 in /usr/local/lib/python3.11/dist-packages (from transformers) (2.0.2)\n",
            "Requirement already satisfied: packaging>=20.0 in /usr/local/lib/python3.11/dist-packages (from transformers) (25.0)\n",
            "Requirement already satisfied: pyyaml>=5.1 in /usr/local/lib/python3.11/dist-packages (from transformers) (6.0.2)\n",
            "Requirement already satisfied: regex!=2019.12.17 in /usr/local/lib/python3.11/dist-packages (from transformers) (2024.11.6)\n",
            "Requirement already satisfied: tokenizers<0.22,>=0.21 in /usr/local/lib/python3.11/dist-packages (from transformers) (0.21.2)\n",
            "Requirement already satisfied: safetensors>=0.4.3 in /usr/local/lib/python3.11/dist-packages (from transformers) (0.5.3)\n",
            "Requirement already satisfied: tqdm>=4.27 in /usr/local/lib/python3.11/dist-packages (from transformers) (4.67.1)\n",
            "Requirement already satisfied: lxml>=3.1.0 in /usr/local/lib/python3.11/dist-packages (from python-docx) (5.4.0)\n",
            "Requirement already satisfied: typing_extensions>=4.9.0 in /usr/local/lib/python3.11/dist-packages (from python-docx) (4.14.1)\n",
            "Requirement already satisfied: fsspec>=2023.5.0 in /usr/local/lib/python3.11/dist-packages (from huggingface-hub<1.0,>=0.30.0->transformers) (2025.3.0)\n",
            "Requirement already satisfied: hf-xet<2.0.0,>=1.1.2 in /usr/local/lib/python3.11/dist-packages (from huggingface-hub<1.0,>=0.30.0->transformers) (1.1.5)\n",
            "Requirement already satisfied: charset-normalizer<4,>=2 in /usr/local/lib/python3.11/dist-packages (from requests->youtube-transcript-api) (3.4.2)\n",
            "Requirement already satisfied: idna<4,>=2.5 in /usr/local/lib/python3.11/dist-packages (from requests->youtube-transcript-api) (3.10)\n",
            "Requirement already satisfied: urllib3<3,>=1.21.1 in /usr/local/lib/python3.11/dist-packages (from requests->youtube-transcript-api) (2.5.0)\n",
            "Requirement already satisfied: certifi>=2017.4.17 in /usr/local/lib/python3.11/dist-packages (from requests->youtube-transcript-api) (2025.7.14)\n",
            "Downloading youtube_transcript_api-1.2.1-py3-none-any.whl (484 kB)\n",
            "\u001b[2K   \u001b[90m━━━━━━━━━━━━━━━━━━━━━━━━━━━━━━━━━━━━━━━━\u001b[0m \u001b[32m484.6/484.6 kB\u001b[0m \u001b[31m14.8 MB/s\u001b[0m eta \u001b[36m0:00:00\u001b[0m\n",
            "\u001b[?25hDownloading python_docx-1.2.0-py3-none-any.whl (252 kB)\n",
            "\u001b[2K   \u001b[90m━━━━━━━━━━━━━━━━━━━━━━━━━━━━━━━━━━━━━━━━\u001b[0m \u001b[32m253.0/253.0 kB\u001b[0m \u001b[31m18.5 MB/s\u001b[0m eta \u001b[36m0:00:00\u001b[0m\n",
            "\u001b[?25hBuilding wheels for collected packages: fpdf\n",
            "  Building wheel for fpdf (setup.py) ... \u001b[?25l\u001b[?25hdone\n",
            "  Created wheel for fpdf: filename=fpdf-1.7.2-py2.py3-none-any.whl size=40704 sha256=e00aeb59ef07b0666e8fb74b1ebf0fd061e485d4019b48986db1da5458ce265e\n",
            "  Stored in directory: /root/.cache/pip/wheels/65/4f/66/bbda9866da446a72e206d6484cd97381cbc7859a7068541c36\n",
            "Successfully built fpdf\n",
            "Installing collected packages: fpdf, python-docx, youtube-transcript-api\n",
            "Successfully installed fpdf-1.7.2 python-docx-1.2.0 youtube-transcript-api-1.2.1\n"
          ]
        }
      ]
    },
    {
      "cell_type": "code",
      "source": [
        "import re\n",
        "from textwrap import wrap\n",
        "from youtube_transcript_api import YouTubeTranscriptApi, TranscriptsDisabled, NoTranscriptFound\n",
        "from transformers import pipeline\n",
        "from fpdf import FPDF\n",
        "from docx import Document\n",
        "from google.colab import files\n",
        "from youtube_transcript_api.formatters import TextFormatter\n",
        "from urllib.parse import urlparse, parse_qs\n"
      ],
      "metadata": {
        "id": "b6vUDS8E109v"
      },
      "execution_count": 2,
      "outputs": []
    },
    {
      "cell_type": "code",
      "source": [
        "def extract_video_id(url):\n",
        "    pattern = r\"(?:v=|\\/)([0-9A-Za-z_-]{11})\"\n",
        "    match = re.search(pattern, url)\n",
        "    return match.group(1) if match else None\n",
        "\n",
        "video_url = input(\"📎 Paste the YouTube video link: \")\n",
        "video_id = extract_video_id(video_url)\n",
        "if not video_id:\n",
        "    print(\"❌ Invalid YouTube URL. Could not extract video ID.\")\n",
        "else:\n",
        "    # 🌐 Ask for preferred language\n",
        "    lang_input = input(\"🌐 Enter language code (default 'en'): \").strip().lower() or \"en\"\n",
        "    preferred_languages = [lang_input]\n",
        "\n",
        "    try:\n",
        "        # 🎥 Fetch transcript\n",
        "        transcript_data = YouTubeTranscriptApi.get_transcript(video_id, languages=preferred_languages)\n",
        "        print(f\"✅ Transcript fetched successfully in: {lang_input}\")\n",
        "\n",
        "        # 📄 Join full transcript text\n",
        "        full_text = \"\\n\".join([t['text'] for t in transcript_data])\n",
        "        chunks = wrap(full_text, width=1000)\n",
        "        print(f\"📑 Total Chapters/Chunks: {len(chunks)}\")\n",
        "\n",
        "        # 🤖 Load summarizer\n",
        "        summarizer = pipeline(\"summarization\", model=\"facebook/bart-large-cnn\")\n",
        "\n",
        "        chapter_notes = []\n",
        "\n",
        "        for i, chunk in enumerate(chunks):\n",
        "            try:\n",
        "                summary = summarizer(chunk, max_length=150, min_length=40, do_sample=False)[0]['summary_text']\n",
        "            except Exception as e:\n",
        "                summary = f\"[⚠️ Error summarizing chunk {i+1}: {str(e)}]\"\n",
        "            chapter_notes.append(f\"\\n📘 Chapter {i+1}:\\n{summary}\")\n",
        "\n",
        "        # 📚 Output summaries\n",
        "        for note in chapter_notes:\n",
        "            print(note)\n",
        "\n",
        "    except TranscriptsDisabled:\n",
        "        print(\"❌ Captions are disabled for this video.\")\n",
        "    except NoTranscriptFound:\n",
        "        print(f\"❌ No transcript found in {preferred_languages}. Try another like 'en', 'hi', etc.\")\n",
        "    except Exception as e:\n",
        "        print(f\"❌ Unexpected error occurred: {str(e)}\")"
      ],
      "metadata": {
        "id": "3Tb-c3co17Ym",
        "outputId": "d103ca9e-2a41-4dd3-e512-fe756b2a95ed",
        "colab": {
          "base_uri": "https://localhost:8080/"
        }
      },
      "execution_count": 3,
      "outputs": [
        {
          "output_type": "stream",
          "name": "stdout",
          "text": [
            "📎 Paste the YouTube video link: https://youtu.be/z7TOTY6uOPA?si=zHGdIIkRsEQ0JGC4\n",
            "🌐 Enter language code (default 'en'): en\n",
            "❌ Unexpected error occurred: type object 'YouTubeTranscriptApi' has no attribute 'get_transcript'\n"
          ]
        }
      ]
    }
  ],
  "metadata": {
    "colab": {
      "provenance": []
    },
    "language_info": {
      "name": "python"
    },
    "kernelspec": {
      "name": "python3",
      "display_name": "Python 3"
    }
  },
  "nbformat": 4,
  "nbformat_minor": 0
}